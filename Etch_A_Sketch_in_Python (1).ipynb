{
  "nbformat": 4,
  "nbformat_minor": 0,
  "metadata": {
    "colab": {
      "name": "Etch A Sketch in Python.ipynb",
      "version": "0.3.2",
      "provenance": []
    },
    "kernelspec": {
      "name": "python3",
      "display_name": "Python 3"
    }
  },
  "cells": [
    {
      "metadata": {
        "id": "TXyTp1vgKUCZ",
        "colab_type": "text"
      },
      "cell_type": "markdown",
      "source": [
        "# How to make the basis of Etch A Sketch in Python 3?\n",
        "\n",
        "I'm relatively new to Python. So far, I completed the tutorial available on Codecademy and some courses on DataCamp but I thought it would be nice to produce a first product"
      ]
    },
    {
      "metadata": {
        "id": "GaXc03fR-Pot",
        "colab_type": "code",
        "outputId": "b9a85e12-f926-4ac5-8c66-91b242b88f7f",
        "colab": {
          "base_uri": "https://localhost:8080/",
          "height": 368
        }
      },
      "cell_type": "code",
      "source": [
        "#importing some modules\n",
        "import matplotlib.pyplot as plt\n",
        "import numpy as np\n",
        "\n",
        "#defining some variables\n",
        "\n",
        "#pos is the 'real-time' position of my dot\n",
        "pos = {'x' : 0,\n",
        "       'y' : 0}\n",
        "\n",
        "#pos_data is holding all the points that were created.\n",
        "pos_data = {'x' : [0],\n",
        "            'y' : [0]}\n",
        "\n",
        "\n",
        "#function to move\n",
        "def moveUp():\n",
        "  global pos\n",
        "  global pos_data\n",
        "  pos['y'] = pos['y'] + 1\n",
        "  pos_data['y'].append(pos['y'])\n",
        "  pos_data['x'].append(pos['x'])\n",
        "  \n",
        "  \n",
        "def moveDown():\n",
        "  global pos\n",
        "  global pos_data\n",
        "  pos['y'] = pos['y'] - 1\n",
        "  pos_data['y'].append(pos['y'])\n",
        "  pos_data['x'].append(pos['x'])\n",
        "  \n",
        "def moveLeft():\n",
        "  global pos\n",
        "  global pos_data\n",
        "  pos['x'] = pos['x'] - 1\n",
        "  pos_data['y'].append(pos['y'])\n",
        "  pos_data['x'].append(pos['x'])\n",
        "  \n",
        "def moveRight():\n",
        "  global pos\n",
        "  global pos_data\n",
        "  pos['x'] = pos['x'] + 1\n",
        "  pos_data['y'].append(pos['y'])\n",
        "  pos_data['x'].append(pos['x'])\n",
        " \n",
        "#this function is setting pos to its initial position {'x' : 0, 'y' : 0} \n",
        "def initialPosition():\n",
        "  global pos\n",
        "  global pos_data\n",
        "  pos = {'x' : 0,\n",
        "         'y' : 0}\n",
        "  pos_data = {'x' :  [0],\n",
        "              'y' : [0]}\n",
        "  \n",
        "#This function returns the drawing space with the current position (pos) of the point\n",
        "def showMap():\n",
        "   plt.plot(pos['x'],pos['y'],'bo')\n",
        "   plt.xticks(np.arange(-10, 11, step=1))\n",
        "   plt.yticks(np.arange(-10, 11, step=1))\n",
        "    \n",
        "#This function is showing the whole trail of your sketch\n",
        "def showPath():\n",
        "   plt.plot(pos_data['x'],pos_data['y'])\n",
        "   plt.xticks(np.arange(-10, 11, step=1))\n",
        "   plt.yticks(np.arange(-10, 11, step=1))\n",
        "\n",
        "#Showing the initial position\n",
        "showMap()\n",
        "\n",
        "#\n",
        "print(pos_data)"
      ],
      "execution_count": 29,
      "outputs": [
        {
          "output_type": "stream",
          "text": [
            "{'x': [0], 'y': [0]}\n"
          ],
          "name": "stdout"
        },
        {
          "output_type": "display_data",
          "data": {
            "image/png": "[encoded data removed]",
            "text/plain": [
              "<Figure size 576x396 with 1 Axes>"
            ]
          },
          "metadata": {
            "tags": []
          }
        }
      ]
    },
    {
      "metadata": {
        "id": "hgklrBkcSgwG",
        "colab_type": "text"
      },
      "cell_type": "markdown",
      "source": [
        "So know we have all the functions to move our position. Let's move!\n",
        "\n",
        "What would happen if we move:\n",
        "\n",
        "1 time up, 2 times left and 3 times down ?"
      ]
    },
    {
      "metadata": {
        "id": "uLFOm9hNKJT1",
        "colab_type": "code",
        "colab": {}
      },
      "cell_type": "code",
      "source": [
        "moveUp()\n",
        "moveLeft()\n",
        "moveLeft()\n",
        "moveDown()\n",
        "moveDown()\n",
        "moveDown()\n"
      ],
      "execution_count": 0,
      "outputs": []
    },
    {
      "metadata": {
        "id": "6zOb8-QlLELJ",
        "colab_type": "text"
      },
      "cell_type": "markdown",
      "source": [
        "So what's your guess ?"
      ]
    },
    {
      "metadata": {
        "id": "sLnYYFa3QKQV",
        "colab_type": "code",
        "colab": {
          "base_uri": "https://localhost:8080/",
          "height": 351
        },
        "outputId": "e4d4e067-ead5-4cdf-d377-3b64fb89522c"
      },
      "cell_type": "code",
      "source": [
        "showPath()"
      ],
      "execution_count": 31,
      "outputs": [
        {
          "output_type": "display_data",
          "data": {
            "image/png": "[encoded data removed]",
            "text/plain": [
              "<Figure size 576x396 with 1 Axes>"
            ]
          },
          "metadata": {
            "tags": []
          }
        }
      ]
    },
    {
      "metadata": {
        "id": "eIQgQZOeQzv4",
        "colab_type": "code",
        "colab": {}
      },
      "cell_type": "code",
      "source": [
        "# We need to re-initiate the position before drawing anything new\n",
        "initialPosition()"
      ],
      "execution_count": 0,
      "outputs": []
    },
    {
      "metadata": {
        "id": "ayTeDSCSQMxv",
        "colab_type": "text"
      },
      "cell_type": "markdown",
      "source": [
        "So after this first try, let's see how I can make the first letter of my name: a 'C'"
      ]
    },
    {
      "metadata": {
        "id": "vtZQsqeZSxpX",
        "colab_type": "code",
        "colab": {}
      },
      "cell_type": "code",
      "source": [
        "moveLeft()\n",
        "moveLeft()\n",
        "moveLeft()\n",
        "moveDown()\n",
        "moveDown()\n",
        "moveDown()\n",
        "moveDown()\n",
        "moveRight()\n",
        "moveRight()\n",
        "moveRight()\n",
        "moveUp()\n",
        "moveLeft()\n",
        "moveLeft()\n",
        "moveUp()\n",
        "moveUp()\n",
        "moveRight()\n",
        "moveRight()\n",
        "moveUp()"
      ],
      "execution_count": 0,
      "outputs": []
    },
    {
      "metadata": {
        "id": "ZN3a_BYOU4MG",
        "colab_type": "text"
      },
      "cell_type": "markdown",
      "source": [
        "And we can plot it as well with our function: "
      ]
    },
    {
      "metadata": {
        "id": "m-BJvNp0gF3E",
        "colab_type": "code",
        "outputId": "b850fbd1-bd73-45c8-b2f1-e7f4dab598a9",
        "colab": {
          "base_uri": "https://localhost:8080/",
          "height": 351
        }
      },
      "cell_type": "code",
      "source": [
        "showPath()"
      ],
      "execution_count": 35,
      "outputs": [
        {
          "output_type": "display_data",
          "data": {
            "image/png": "[encoded data removed]",
            "text/plain": [
              "<Figure size 576x396 with 1 Axes>"
            ]
          },
          "metadata": {
            "tags": []
          }
        }
      ]
    }
  ]
}